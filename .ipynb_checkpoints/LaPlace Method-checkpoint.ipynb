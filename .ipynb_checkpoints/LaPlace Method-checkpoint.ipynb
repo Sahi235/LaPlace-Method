{
 "cells": [
  {
   "cell_type": "code",
   "execution_count": 156,
   "id": "0b0c92bd",
   "metadata": {},
   "outputs": [],
   "source": [
    "import numpy as np"
   ]
  },
  {
   "cell_type": "code",
   "execution_count": 223,
   "id": "37633b7c",
   "metadata": {},
   "outputs": [],
   "source": [
    "## This function is evil.\n",
    "## Please replace this with something better\n",
    "## Sorry i forgot python is worst when it comes to string representation :) \n",
    "def calculate_means(inputs):\n",
    "    final_step = ''\n",
    "    matrix_col_size = inputs.shape[1]\n",
    "    for i in range(inputs.shape[0]):\n",
    "        temp_step = f'A{i + 1} : ('\n",
    "        for n in range(inputs[i].shape[0]):\n",
    "            if n < matrix_col_size - 1:\n",
    "                temp_step = temp_step + f'({str(inputs[i][n])})' + \"+\"\n",
    "            elif n == matrix_col_size - 1:\n",
    "                temp_step = temp_step + f'({str(inputs[i][n])})'\n",
    "        temp_step = temp_step + ')'\n",
    "        temp_step = temp_step + f' ÷ {matrix_col_size} = {np.mean(inputs, axis=1)[i]}'\n",
    "        final_step = final_step + temp_step + '\\n'\n",
    "    print(final_step)\n",
    "    return np.mean(inputs, axis=1)"
   ]
  },
  {
   "cell_type": "code",
   "execution_count": 242,
   "id": "c7944fb2",
   "metadata": {},
   "outputs": [],
   "source": [
    "def find_max_of_means(means):\n",
    "    max_of_means = np.max(means)\n",
    "    print(f'Our max of mean is {max_of_means}')\n",
    "    return max_of_means"
   ]
  },
  {
   "cell_type": "code",
   "execution_count": 243,
   "id": "b8384e05",
   "metadata": {},
   "outputs": [],
   "source": [
    "def find_best_alternative(inputs, max_mean):\n",
    "    for i in range(inputs.shape[0]):\n",
    "        if np.mean(inputs[i]) == max_mean:\n",
    "            return i + 1\n",
    "    return"
   ]
  },
  {
   "cell_type": "code",
   "execution_count": 244,
   "id": "b22e57fb",
   "metadata": {},
   "outputs": [],
   "source": [
    "def la_place_method(inputs):\n",
    "    means = calculate_means(inputs)\n",
    "    max_of_means = find_max_of_means(means)\n",
    "    best_alternative = find_best_alternative(inputs, max_of_means)\n",
    "    print(f'\\nA{best_alternative} is the best alternative')"
   ]
  },
  {
   "cell_type": "code",
   "execution_count": 245,
   "id": "7354f6a8",
   "metadata": {},
   "outputs": [
    {
     "data": {
      "text/plain": [
       "6"
      ]
     },
     "execution_count": 245,
     "metadata": {},
     "output_type": "execute_result"
    }
   ],
   "source": [
    "find_best_alternative(inputs, 21.2)"
   ]
  },
  {
   "cell_type": "code",
   "execution_count": 246,
   "id": "2fcb54cd",
   "metadata": {},
   "outputs": [],
   "source": [
    "inputs = np.array([\n",
    "    [-1, 3, 4, 6, 7],\n",
    "    [19, -11, 26, 8, 23],\n",
    "    [23, 12, 9, 27, 27],\n",
    "    [-21, 17, 10, 25, 26],\n",
    "    [20, 13, 14, 29, 28],\n",
    "    [6, 34, 5, 30, 31],\n",
    "    [-1, 3, 14, 18, 16]\n",
    "])"
   ]
  },
  {
   "cell_type": "code",
   "execution_count": 247,
   "id": "6daed980",
   "metadata": {},
   "outputs": [
    {
     "name": "stdout",
     "output_type": "stream",
     "text": [
      "A1 : ((-1)+(3)+(4)+(6)+(7)) ÷ 5 = 3.8\n",
      "A2 : ((19)+(-11)+(26)+(8)+(23)) ÷ 5 = 13.0\n",
      "A3 : ((23)+(12)+(9)+(27)+(27)) ÷ 5 = 19.6\n",
      "A4 : ((-21)+(17)+(10)+(25)+(26)) ÷ 5 = 11.4\n",
      "A5 : ((20)+(13)+(14)+(29)+(28)) ÷ 5 = 20.8\n",
      "A6 : ((6)+(34)+(5)+(30)+(31)) ÷ 5 = 21.2\n",
      "A7 : ((-1)+(3)+(14)+(18)+(16)) ÷ 5 = 10.0\n",
      "\n",
      "Our max of mean is 21.2\n",
      "\n",
      "A6 is the best alternative\n"
     ]
    }
   ],
   "source": [
    "la_place_method(inputs)"
   ]
  }
 ],
 "metadata": {
  "kernelspec": {
   "display_name": "Python 3 (ipykernel)",
   "language": "python",
   "name": "python3"
  },
  "language_info": {
   "codemirror_mode": {
    "name": "ipython",
    "version": 3
   },
   "file_extension": ".py",
   "mimetype": "text/x-python",
   "name": "python",
   "nbconvert_exporter": "python",
   "pygments_lexer": "ipython3",
   "version": "3.9.12"
  }
 },
 "nbformat": 4,
 "nbformat_minor": 5
}
